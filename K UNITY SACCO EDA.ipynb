{
 "cells": [
  {
   "cell_type": "code",
   "execution_count": 1,
   "id": "a9332dee",
   "metadata": {},
   "outputs": [
    {
     "name": "stdout",
     "output_type": "stream",
     "text": [
      "(149321, 8) \n",
      "\n"
     ]
    },
    {
     "data": {
      "text/html": [
       "<div>\n",
       "<style scoped>\n",
       "    .dataframe tbody tr th:only-of-type {\n",
       "        vertical-align: middle;\n",
       "    }\n",
       "\n",
       "    .dataframe tbody tr th {\n",
       "        vertical-align: top;\n",
       "    }\n",
       "\n",
       "    .dataframe thead th {\n",
       "        text-align: right;\n",
       "    }\n",
       "</style>\n",
       "<table border=\"1\" class=\"dataframe\">\n",
       "  <thead>\n",
       "    <tr style=\"text-align: right;\">\n",
       "      <th></th>\n",
       "      <th>OutstandingLoan</th>\n",
       "      <th>terms</th>\n",
       "      <th>disbursedamount</th>\n",
       "      <th>installmentstartdate</th>\n",
       "      <th>Lastinstallmentdate</th>\n",
       "      <th>LastInstallmentAmount</th>\n",
       "      <th>disbursementdate</th>\n",
       "      <th>Gender</th>\n",
       "    </tr>\n",
       "  </thead>\n",
       "  <tbody>\n",
       "    <tr>\n",
       "      <th>0</th>\n",
       "      <td>-18134.96</td>\n",
       "      <td>1</td>\n",
       "      <td>0.0</td>\n",
       "      <td>2022-02-18</td>\n",
       "      <td>2022-02-18</td>\n",
       "      <td>0.0</td>\n",
       "      <td>2022-01-19</td>\n",
       "      <td>M</td>\n",
       "    </tr>\n",
       "    <tr>\n",
       "      <th>1</th>\n",
       "      <td>-6769.98</td>\n",
       "      <td>1</td>\n",
       "      <td>0.0</td>\n",
       "      <td>2021-12-31</td>\n",
       "      <td>2021-12-31</td>\n",
       "      <td>0.0</td>\n",
       "      <td>2021-12-01</td>\n",
       "      <td>F</td>\n",
       "    </tr>\n",
       "    <tr>\n",
       "      <th>2</th>\n",
       "      <td>-10000.00</td>\n",
       "      <td>1</td>\n",
       "      <td>0.0</td>\n",
       "      <td>2021-12-30</td>\n",
       "      <td>2021-12-30</td>\n",
       "      <td>0.0</td>\n",
       "      <td>2021-11-30</td>\n",
       "      <td>F</td>\n",
       "    </tr>\n",
       "    <tr>\n",
       "      <th>3</th>\n",
       "      <td>-30000.00</td>\n",
       "      <td>1</td>\n",
       "      <td>0.0</td>\n",
       "      <td>2021-12-26</td>\n",
       "      <td>2021-12-26</td>\n",
       "      <td>0.0</td>\n",
       "      <td>2021-11-26</td>\n",
       "      <td>F</td>\n",
       "    </tr>\n",
       "    <tr>\n",
       "      <th>4</th>\n",
       "      <td>-1269.98</td>\n",
       "      <td>1</td>\n",
       "      <td>0.0</td>\n",
       "      <td>2021-12-26</td>\n",
       "      <td>2021-12-26</td>\n",
       "      <td>0.0</td>\n",
       "      <td>2021-11-26</td>\n",
       "      <td>M</td>\n",
       "    </tr>\n",
       "  </tbody>\n",
       "</table>\n",
       "</div>"
      ],
      "text/plain": [
       "   OutstandingLoan  terms  disbursedamount installmentstartdate  \\\n",
       "0        -18134.96      1              0.0           2022-02-18   \n",
       "1         -6769.98      1              0.0           2021-12-31   \n",
       "2        -10000.00      1              0.0           2021-12-30   \n",
       "3        -30000.00      1              0.0           2021-12-26   \n",
       "4         -1269.98      1              0.0           2021-12-26   \n",
       "\n",
       "  Lastinstallmentdate  LastInstallmentAmount disbursementdate Gender  \n",
       "0          2022-02-18                    0.0       2022-01-19      M  \n",
       "1          2021-12-31                    0.0       2021-12-01      F  \n",
       "2          2021-12-30                    0.0       2021-11-30      F  \n",
       "3          2021-12-26                    0.0       2021-11-26      F  \n",
       "4          2021-12-26                    0.0       2021-11-26      M  "
      ]
     },
     "execution_count": 1,
     "metadata": {},
     "output_type": "execute_result"
    }
   ],
   "source": [
    "import pandas as pd\n",
    "from datetime import timedelta, date \n",
    "import seaborn as sns\n",
    "\n",
    "import numpy as np\n",
    "import pandas as pd\n",
    "import matplotlib.pyplot as plt\n",
    "%matplotlib inline\n",
    "import seaborn as sns\n",
    "\n",
    "from sklearn.model_selection import train_test_split\n",
    "from sklearn.preprocessing import StandardScaler, MinMaxScaler #standardization and normalization\n",
    "scaler=StandardScaler()\n",
    "\n",
    "from sklearn.metrics import r2_score\n",
    "from sklearn.cluster import KMeans, k_means\n",
    "\n",
    "#Load the data\n",
    "df=pd.read_excel(\"KCA Loan data.xlsx\")\n",
    "print(df.shape,\"\\n\")\n",
    "df.head(5)"
   ]
  },
  {
   "cell_type": "code",
   "execution_count": 2,
   "id": "31b8e16e",
   "metadata": {},
   "outputs": [
    {
     "data": {
      "text/html": [
       "<div>\n",
       "<style scoped>\n",
       "    .dataframe tbody tr th:only-of-type {\n",
       "        vertical-align: middle;\n",
       "    }\n",
       "\n",
       "    .dataframe tbody tr th {\n",
       "        vertical-align: top;\n",
       "    }\n",
       "\n",
       "    .dataframe thead th {\n",
       "        text-align: right;\n",
       "    }\n",
       "</style>\n",
       "<table border=\"1\" class=\"dataframe\">\n",
       "  <thead>\n",
       "    <tr style=\"text-align: right;\">\n",
       "      <th></th>\n",
       "      <th>OutstandingLoan</th>\n",
       "      <th>terms</th>\n",
       "      <th>disbursedamount</th>\n",
       "      <th>installmentstartdate</th>\n",
       "      <th>Lastinstallmentdate</th>\n",
       "      <th>LastInstallmentAmount</th>\n",
       "      <th>disbursementdate</th>\n",
       "      <th>Gender</th>\n",
       "    </tr>\n",
       "  </thead>\n",
       "  <tbody>\n",
       "    <tr>\n",
       "      <th>0</th>\n",
       "      <td>-18134.96</td>\n",
       "      <td>1</td>\n",
       "      <td>0.0</td>\n",
       "      <td>2022-02-18</td>\n",
       "      <td>2022-02-18</td>\n",
       "      <td>0.0</td>\n",
       "      <td>2022-01-19</td>\n",
       "      <td>1</td>\n",
       "    </tr>\n",
       "    <tr>\n",
       "      <th>1</th>\n",
       "      <td>-6769.98</td>\n",
       "      <td>1</td>\n",
       "      <td>0.0</td>\n",
       "      <td>2021-12-31</td>\n",
       "      <td>2021-12-31</td>\n",
       "      <td>0.0</td>\n",
       "      <td>2021-12-01</td>\n",
       "      <td>0</td>\n",
       "    </tr>\n",
       "    <tr>\n",
       "      <th>2</th>\n",
       "      <td>-10000.00</td>\n",
       "      <td>1</td>\n",
       "      <td>0.0</td>\n",
       "      <td>2021-12-30</td>\n",
       "      <td>2021-12-30</td>\n",
       "      <td>0.0</td>\n",
       "      <td>2021-11-30</td>\n",
       "      <td>0</td>\n",
       "    </tr>\n",
       "    <tr>\n",
       "      <th>3</th>\n",
       "      <td>-30000.00</td>\n",
       "      <td>1</td>\n",
       "      <td>0.0</td>\n",
       "      <td>2021-12-26</td>\n",
       "      <td>2021-12-26</td>\n",
       "      <td>0.0</td>\n",
       "      <td>2021-11-26</td>\n",
       "      <td>0</td>\n",
       "    </tr>\n",
       "    <tr>\n",
       "      <th>4</th>\n",
       "      <td>-1269.98</td>\n",
       "      <td>1</td>\n",
       "      <td>0.0</td>\n",
       "      <td>2021-12-26</td>\n",
       "      <td>2021-12-26</td>\n",
       "      <td>0.0</td>\n",
       "      <td>2021-11-26</td>\n",
       "      <td>1</td>\n",
       "    </tr>\n",
       "  </tbody>\n",
       "</table>\n",
       "</div>"
      ],
      "text/plain": [
       "   OutstandingLoan  terms  disbursedamount installmentstartdate  \\\n",
       "0        -18134.96      1              0.0           2022-02-18   \n",
       "1         -6769.98      1              0.0           2021-12-31   \n",
       "2        -10000.00      1              0.0           2021-12-30   \n",
       "3        -30000.00      1              0.0           2021-12-26   \n",
       "4         -1269.98      1              0.0           2021-12-26   \n",
       "\n",
       "  Lastinstallmentdate  LastInstallmentAmount disbursementdate Gender  \n",
       "0          2022-02-18                    0.0       2022-01-19      1  \n",
       "1          2021-12-31                    0.0       2021-12-01      0  \n",
       "2          2021-12-30                    0.0       2021-11-30      0  \n",
       "3          2021-12-26                    0.0       2021-11-26      0  \n",
       "4          2021-12-26                    0.0       2021-11-26      1  "
      ]
     },
     "execution_count": 2,
     "metadata": {},
     "output_type": "execute_result"
    }
   ],
   "source": [
    "#We format some the Gender Column to be more explanatory\n",
    "df.loc[df.Gender==\"M\", \"Gender\"]=1\n",
    "df.loc[df.Gender==\"F\", \"Gender\"]=0\n",
    "df.loc[df.Gender==\"U\", \"Gender\"]=2\n",
    "df.head()"
   ]
  },
  {
   "cell_type": "code",
   "execution_count": 3,
   "id": "e934e8d3",
   "metadata": {
    "scrolled": false
   },
   "outputs": [
    {
     "name": "stdout",
     "output_type": "stream",
     "text": [
      "<class 'pandas.core.frame.DataFrame'>\n",
      "RangeIndex: 149321 entries, 0 to 149320\n",
      "Data columns (total 8 columns):\n",
      " #   Column                 Non-Null Count   Dtype         \n",
      "---  ------                 --------------   -----         \n",
      " 0   OutstandingLoan        149321 non-null  float64       \n",
      " 1   terms                  149321 non-null  int64         \n",
      " 2   disbursedamount        149321 non-null  float64       \n",
      " 3   installmentstartdate   149285 non-null  datetime64[ns]\n",
      " 4   Lastinstallmentdate    149320 non-null  datetime64[ns]\n",
      " 5   LastInstallmentAmount  146885 non-null  float64       \n",
      " 6   disbursementdate       149274 non-null  datetime64[ns]\n",
      " 7   Gender                 149321 non-null  object        \n",
      "dtypes: datetime64[ns](3), float64(3), int64(1), object(1)\n",
      "memory usage: 9.1+ MB\n"
     ]
    }
   ],
   "source": [
    "df.info()"
   ]
  },
  {
   "cell_type": "markdown",
   "id": "15053880",
   "metadata": {},
   "source": [
    "#### From the above data information, we can see that the data types are ok and may not need anyr reworking"
   ]
  },
  {
   "cell_type": "markdown",
   "id": "33cfbfcf",
   "metadata": {},
   "source": [
    "#### Handling missing values\n",
    "Let us see the columns with missing values"
   ]
  },
  {
   "cell_type": "code",
   "execution_count": 4,
   "id": "56fa16a8",
   "metadata": {},
   "outputs": [
    {
     "data": {
      "text/plain": [
       "OutstandingLoan             0\n",
       "terms                       0\n",
       "disbursedamount             0\n",
       "installmentstartdate       36\n",
       "Lastinstallmentdate         1\n",
       "LastInstallmentAmount    2436\n",
       "disbursementdate           47\n",
       "Gender                      0\n",
       "dtype: int64"
      ]
     },
     "execution_count": 4,
     "metadata": {},
     "output_type": "execute_result"
    }
   ],
   "source": [
    "df.isnull().sum()"
   ]
  },
  {
   "cell_type": "markdown",
   "id": "97443249",
   "metadata": {},
   "source": [
    "#### installmentstartdate column has 36 missing values\n",
    "   we will impute this by adding 30 days to the **disbursmentdate** assuming that one starts paying one month after disbursment"
   ]
  },
  {
   "cell_type": "code",
   "execution_count": 5,
   "id": "10645150",
   "metadata": {
    "scrolled": false
   },
   "outputs": [],
   "source": [
    "df[\"installmentstartdate\"]=df.installmentstartdate.fillna(df.disbursementdate + timedelta(days=30))\n",
    "#df=df.astype({'installmentstartdate': 'datetime64[ns]'})"
   ]
  },
  {
   "cell_type": "markdown",
   "id": "207a9e0f",
   "metadata": {},
   "source": [
    "#### disbursmentdate column has 47 missing values\n",
    "   we will impute this by subtracting 30 days from  **installmentstartdate** assuming that one starts paying one month after disbursment"
   ]
  },
  {
   "cell_type": "code",
   "execution_count": 6,
   "id": "f83dc845",
   "metadata": {},
   "outputs": [],
   "source": [
    "df[\"disbursementdate\"]=df.disbursementdate.fillna(df.installmentstartdate - timedelta(days=30))"
   ]
  },
  {
   "cell_type": "markdown",
   "id": "639d9a1a",
   "metadata": {},
   "source": [
    "#### Lastinstallmentdate column has 1 missing values\n",
    "   we will impute this  with **installmentstartdate**+30days since this was transaction was offered for 1 term only meaning one month"
   ]
  },
  {
   "cell_type": "code",
   "execution_count": 7,
   "id": "4f23b7bc",
   "metadata": {
    "scrolled": true
   },
   "outputs": [],
   "source": [
    "df[\"Lastinstallmentdate\"]=df.Lastinstallmentdate.fillna(df.installmentstartdate+timedelta(days=30))"
   ]
  },
  {
   "cell_type": "markdown",
   "id": "a1e7c53f",
   "metadata": {},
   "source": [
    "#### LastInstallmentAmount column has 2436 missing values\n",
    "This is quite alot of missing values. We are not willing to drop all those rows of data. So we will fill all those missing values with values zero assuming that it means there was NILL payment"
   ]
  },
  {
   "cell_type": "code",
   "execution_count": 8,
   "id": "ae073732",
   "metadata": {},
   "outputs": [
    {
     "data": {
      "text/plain": [
       "OutstandingLoan          0\n",
       "terms                    0\n",
       "disbursedamount          0\n",
       "installmentstartdate     0\n",
       "Lastinstallmentdate      0\n",
       "LastInstallmentAmount    0\n",
       "disbursementdate         0\n",
       "Gender                   0\n",
       "dtype: int64"
      ]
     },
     "execution_count": 8,
     "metadata": {},
     "output_type": "execute_result"
    }
   ],
   "source": [
    "df[\"LastInstallmentAmount\"]=df.LastInstallmentAmount.fillna(0)\n",
    "df.isnull().sum()"
   ]
  },
  {
   "cell_type": "markdown",
   "id": "16e2d6d1",
   "metadata": {},
   "source": [
    "# Let us check the defaulters!\n"
   ]
  },
  {
   "cell_type": "code",
   "execution_count": 9,
   "id": "ba076a69",
   "metadata": {},
   "outputs": [],
   "source": [
    "import datetime\n",
    "from datetime import timedelta as dt\n",
    "\n",
    "df[\"defaulter\"]=\"\"\n",
    "\n",
    "#date today minus when the persons started paying the installments\n",
    "df[\"terms_lapsed\"]=(datetime.datetime.now()) #this can be misleading if data was not extracted recently\n",
    "df[\"terms_lapsed\"]=df[\"terms_lapsed\"]-df.installmentstartdate\n",
    "\n",
    "#extract days from timedelta\n",
    "df[\"terms_lapsed\"]=pd.to_timedelta(df[\"terms_lapsed\"],errors=\"coerce\").dt.days \n",
    "\n",
    "#divide the days by 30 days of the month to get approximate months that have lapsed\n",
    "df[\"terms_lapsed\"]=df.terms_lapsed/30 \n",
    "\n",
    "#Get all those whose term has lapsed also includes..:\n",
    "#Those whose term lapsed, they paid last installment, yet they still have balances\n",
    "df.loc[((df.terms_lapsed)>(df.terms) | (((df.terms_lapsed)==(df.terms)) & (df.OutstandingLoan>0)  ) ,\"defaulter\")]= 1\n",
    "\n",
    "#Get all those whose terms are not yet over\n",
    "df.loc[(df.terms_lapsed)<(df.terms),\"defaulter\"]= 0 \n",
    "\n",
    "#get all those whose terms havent lapsed but they did not pay last installment\n",
    "df.loc[(df.terms_lapsed)<(df.terms) & (df.LastInstallmentAmount==0)  ,\"defaulter\"]= 2 #unknown"
   ]
  },
  {
   "cell_type": "code",
   "execution_count": 10,
   "id": "06b97e69",
   "metadata": {},
   "outputs": [],
   "source": [
    "#Create a ratio of Disbursed amount and Outstanding loan\n",
    "df[\"disbursed_outstanding_ratio\"]=df[\"disbursedamount\"]/abs(df[\"OutstandingLoan\"])\n"
   ]
  },
  {
   "cell_type": "code",
   "execution_count": 11,
   "id": "c0cf8dd9",
   "metadata": {},
   "outputs": [
    {
     "data": {
      "text/html": [
       "<div>\n",
       "<style scoped>\n",
       "    .dataframe tbody tr th:only-of-type {\n",
       "        vertical-align: middle;\n",
       "    }\n",
       "\n",
       "    .dataframe tbody tr th {\n",
       "        vertical-align: top;\n",
       "    }\n",
       "\n",
       "    .dataframe thead th {\n",
       "        text-align: right;\n",
       "    }\n",
       "</style>\n",
       "<table border=\"1\" class=\"dataframe\">\n",
       "  <thead>\n",
       "    <tr style=\"text-align: right;\">\n",
       "      <th></th>\n",
       "      <th>OutstandingLoan</th>\n",
       "      <th>installmentstartdate</th>\n",
       "      <th>Lastinstallmentdate</th>\n",
       "      <th>disbursementdate</th>\n",
       "    </tr>\n",
       "  </thead>\n",
       "  <tbody>\n",
       "    <tr>\n",
       "      <th>0</th>\n",
       "      <td>-18134.96</td>\n",
       "      <td>2022-02-18</td>\n",
       "      <td>2022-02-18</td>\n",
       "      <td>2022-01-19</td>\n",
       "    </tr>\n",
       "    <tr>\n",
       "      <th>1</th>\n",
       "      <td>-6769.98</td>\n",
       "      <td>2021-12-31</td>\n",
       "      <td>2021-12-31</td>\n",
       "      <td>2021-12-01</td>\n",
       "    </tr>\n",
       "    <tr>\n",
       "      <th>2</th>\n",
       "      <td>-10000.00</td>\n",
       "      <td>2021-12-30</td>\n",
       "      <td>2021-12-30</td>\n",
       "      <td>2021-11-30</td>\n",
       "    </tr>\n",
       "    <tr>\n",
       "      <th>3</th>\n",
       "      <td>-30000.00</td>\n",
       "      <td>2021-12-26</td>\n",
       "      <td>2021-12-26</td>\n",
       "      <td>2021-11-26</td>\n",
       "    </tr>\n",
       "    <tr>\n",
       "      <th>4</th>\n",
       "      <td>-1269.98</td>\n",
       "      <td>2021-12-26</td>\n",
       "      <td>2021-12-26</td>\n",
       "      <td>2021-11-26</td>\n",
       "    </tr>\n",
       "  </tbody>\n",
       "</table>\n",
       "</div>"
      ],
      "text/plain": [
       "   OutstandingLoan installmentstartdate Lastinstallmentdate disbursementdate\n",
       "0        -18134.96           2022-02-18          2022-02-18       2022-01-19\n",
       "1         -6769.98           2021-12-31          2021-12-31       2021-12-01\n",
       "2        -10000.00           2021-12-30          2021-12-30       2021-11-30\n",
       "3        -30000.00           2021-12-26          2021-12-26       2021-11-26\n",
       "4         -1269.98           2021-12-26          2021-12-26       2021-11-26"
      ]
     },
     "execution_count": 11,
     "metadata": {},
     "output_type": "execute_result"
    }
   ],
   "source": [
    "#get date columns to attached later to the transformed df\n",
    "df_cols=df[['OutstandingLoan','installmentstartdate','Lastinstallmentdate','disbursementdate']]\n",
    "df_cols.head()"
   ]
  },
  {
   "cell_type": "code",
   "execution_count": 12,
   "id": "e9c6ee2c",
   "metadata": {},
   "outputs": [
    {
     "data": {
      "text/plain": [
       "'for col in cols:\\n    print(\"For column {}, the unique values are: {}\".format(col,df[col].unique()),\"\\n\",\"\\n\",\"***\"*40)'"
      ]
     },
     "execution_count": 12,
     "metadata": {},
     "output_type": "execute_result"
    }
   ],
   "source": [
    "#Function to get the ranges\n",
    "\"\"\"\n",
    "\n",
    "#create a copy dataframe before we transform our columns\n",
    "df_copy=df.copy()\n",
    "\n",
    "cols=['OutstandingLoan', 'disbursedamount','LastInstallmentAmount','disbursed_outstanding_ratio','terms','terms_lapsed']\n",
    "def create_bins(df):\n",
    "    for column in cols:\n",
    "        results=pd.qcut(df[column],q=3)#labels=['low','middle','upper']\n",
    "        df[column]=results\n",
    "    return df\n",
    "create_bins(df)\"\"\"\n",
    "\n",
    "\"\"\"for col in cols:\n",
    "    print(\"For column {}, the unique values are: {}\".format(col,df[col].unique()),\"\\n\",\"\\n\",\"***\"*40)\"\"\""
   ]
  },
  {
   "cell_type": "code",
   "execution_count": null,
   "id": "c1cfb263",
   "metadata": {},
   "outputs": [],
   "source": [
    "\n"
   ]
  },
  {
   "cell_type": "code",
   "execution_count": 13,
   "id": "1c962c7f",
   "metadata": {},
   "outputs": [
    {
     "data": {
      "text/html": [
       "<div>\n",
       "<style scoped>\n",
       "    .dataframe tbody tr th:only-of-type {\n",
       "        vertical-align: middle;\n",
       "    }\n",
       "\n",
       "    .dataframe tbody tr th {\n",
       "        vertical-align: top;\n",
       "    }\n",
       "\n",
       "    .dataframe thead th {\n",
       "        text-align: right;\n",
       "    }\n",
       "</style>\n",
       "<table border=\"1\" class=\"dataframe\">\n",
       "  <thead>\n",
       "    <tr style=\"text-align: right;\">\n",
       "      <th></th>\n",
       "      <th>OutstandingLoan</th>\n",
       "      <th>terms</th>\n",
       "      <th>disbursedamount</th>\n",
       "      <th>installmentstartdate</th>\n",
       "      <th>Lastinstallmentdate</th>\n",
       "      <th>LastInstallmentAmount</th>\n",
       "      <th>disbursementdate</th>\n",
       "      <th>Gender</th>\n",
       "      <th>defaulter</th>\n",
       "      <th>terms_lapsed</th>\n",
       "      <th>disbursed_outstanding_ratio</th>\n",
       "    </tr>\n",
       "  </thead>\n",
       "  <tbody>\n",
       "    <tr>\n",
       "      <th>0</th>\n",
       "      <td>2</td>\n",
       "      <td>0</td>\n",
       "      <td>0</td>\n",
       "      <td>2022-02-18</td>\n",
       "      <td>2022-02-18</td>\n",
       "      <td>0</td>\n",
       "      <td>2022-01-19</td>\n",
       "      <td>1</td>\n",
       "      <td>1</td>\n",
       "      <td>0</td>\n",
       "      <td>0</td>\n",
       "    </tr>\n",
       "    <tr>\n",
       "      <th>1</th>\n",
       "      <td>2</td>\n",
       "      <td>0</td>\n",
       "      <td>0</td>\n",
       "      <td>2021-12-31</td>\n",
       "      <td>2021-12-31</td>\n",
       "      <td>0</td>\n",
       "      <td>2021-12-01</td>\n",
       "      <td>0</td>\n",
       "      <td>1</td>\n",
       "      <td>0</td>\n",
       "      <td>0</td>\n",
       "    </tr>\n",
       "    <tr>\n",
       "      <th>2</th>\n",
       "      <td>2</td>\n",
       "      <td>0</td>\n",
       "      <td>0</td>\n",
       "      <td>2021-12-30</td>\n",
       "      <td>2021-12-30</td>\n",
       "      <td>0</td>\n",
       "      <td>2021-11-30</td>\n",
       "      <td>0</td>\n",
       "      <td>1</td>\n",
       "      <td>0</td>\n",
       "      <td>0</td>\n",
       "    </tr>\n",
       "    <tr>\n",
       "      <th>3</th>\n",
       "      <td>2</td>\n",
       "      <td>0</td>\n",
       "      <td>0</td>\n",
       "      <td>2021-12-26</td>\n",
       "      <td>2021-12-26</td>\n",
       "      <td>0</td>\n",
       "      <td>2021-11-26</td>\n",
       "      <td>0</td>\n",
       "      <td>1</td>\n",
       "      <td>0</td>\n",
       "      <td>0</td>\n",
       "    </tr>\n",
       "    <tr>\n",
       "      <th>4</th>\n",
       "      <td>2</td>\n",
       "      <td>0</td>\n",
       "      <td>0</td>\n",
       "      <td>2021-12-26</td>\n",
       "      <td>2021-12-26</td>\n",
       "      <td>0</td>\n",
       "      <td>2021-11-26</td>\n",
       "      <td>1</td>\n",
       "      <td>1</td>\n",
       "      <td>0</td>\n",
       "      <td>0</td>\n",
       "    </tr>\n",
       "  </tbody>\n",
       "</table>\n",
       "</div>"
      ],
      "text/plain": [
       "   OutstandingLoan  terms  disbursedamount installmentstartdate  \\\n",
       "0                2      0                0           2022-02-18   \n",
       "1                2      0                0           2021-12-31   \n",
       "2                2      0                0           2021-12-30   \n",
       "3                2      0                0           2021-12-26   \n",
       "4                2      0                0           2021-12-26   \n",
       "\n",
       "  Lastinstallmentdate  LastInstallmentAmount disbursementdate Gender  \\\n",
       "0          2022-02-18                      0       2022-01-19      1   \n",
       "1          2021-12-31                      0       2021-12-01      0   \n",
       "2          2021-12-30                      0       2021-11-30      0   \n",
       "3          2021-12-26                      0       2021-11-26      0   \n",
       "4          2021-12-26                      0       2021-11-26      1   \n",
       "\n",
       "  defaulter  terms_lapsed  disbursed_outstanding_ratio  \n",
       "0         1             0                            0  \n",
       "1         1             0                            0  \n",
       "2         1             0                            0  \n",
       "3         1             0                            0  \n",
       "4         1             0                            0  "
      ]
     },
     "execution_count": 13,
     "metadata": {},
     "output_type": "execute_result"
    }
   ],
   "source": [
    "cols=['OutstandingLoan', 'disbursedamount','LastInstallmentAmount','disbursed_outstanding_ratio','terms','terms_lapsed']\n",
    "def create_bins(df):\n",
    "    for column in cols:\n",
    "        results=pd.qcut(df[column],q=3,labels=False)#labels=['low','middle','upper']\n",
    "        df[column]=results\n",
    "    return df\n",
    "create_bins(df)\n",
    "df.head(5)"
   ]
  },
  {
   "cell_type": "code",
   "execution_count": 14,
   "id": "ac27fcf7",
   "metadata": {},
   "outputs": [
    {
     "name": "stdout",
     "output_type": "stream",
     "text": [
      "For column OutstandingLoan, the unique values are: [2 0 1] \n",
      " \n",
      " ************************************************************************************************************************\n",
      "For column disbursedamount, the unique values are: [0 1 2] \n",
      " \n",
      " ************************************************************************************************************************\n",
      "For column LastInstallmentAmount, the unique values are: [0 1 2] \n",
      " \n",
      " ************************************************************************************************************************\n",
      "For column disbursed_outstanding_ratio, the unique values are: [0 1 2] \n",
      " \n",
      " ************************************************************************************************************************\n",
      "For column terms, the unique values are: [0 2 1] \n",
      " \n",
      " ************************************************************************************************************************\n",
      "For column terms_lapsed, the unique values are: [0 1 2] \n",
      " \n",
      " ************************************************************************************************************************\n"
     ]
    }
   ],
   "source": [
    "for col in cols:\n",
    "    print(\"For column {}, the unique values are: {}\".format(col,df[col].unique()),\"\\n\",\"\\n\",\"***\"*40)"
   ]
  },
  {
   "cell_type": "code",
   "execution_count": 15,
   "id": "85762ab9",
   "metadata": {
    "scrolled": false
   },
   "outputs": [
    {
     "data": {
      "image/png": "[encoded data removed]",
      "text/plain": [
       "<Figure size 432x288 with 1 Axes>"
      ]
     },
     "metadata": {
      "needs_background": "light"
     },
     "output_type": "display_data"
    },
    {
     "data": {
      "image/png": "[encoded data removed]",
      "text/plain": [
       "<Figure size 432x288 with 1 Axes>"
      ]
     },
     "metadata": {
      "needs_background": "light"
     },
     "output_type": "display_data"
    },
    {
     "data": {
      "image/png": "[encoded data removed]",
      "text/plain": [
       "<Figure size 432x288 with 1 Axes>"
      ]
     },
     "metadata": {
      "needs_background": "light"
     },
     "output_type": "display_data"
    },
    {
     "data": {
      "image/png": "[encoded data removed]",
      "text/plain": [
       "<Figure size 432x288 with 1 Axes>"
      ]
     },
     "metadata": {
      "needs_background": "light"
     },
     "output_type": "display_data"
    },
    {
     "data": {
      "image/png": "[encoded data removed]",
      "text/plain": [
       "<Figure size 432x288 with 1 Axes>"
      ]
     },
     "metadata": {
      "needs_background": "light"
     },
     "output_type": "display_data"
    },
    {
     "data": {
      "image/png": "[encoded data removed]",
      "text/plain": [
       "<Figure size 432x288 with 1 Axes>"
      ]
     },
     "metadata": {
      "needs_background": "light"
     },
     "output_type": "display_data"
    },
    {
     "data": {
      "image/png": "[encoded data removed]",
      "text/plain": [
       "<Figure size 432x288 with 1 Axes>"
      ]
     },
     "metadata": {
      "needs_background": "light"
     },
     "output_type": "display_data"
    },
    {
     "data": {
      "image/png": "[encoded data removed]",
      "text/plain": [
       "<Figure size 432x288 with 1 Axes>"
      ]
     },
     "metadata": {
      "needs_background": "light"
     },
     "output_type": "display_data"
    }
   ],
   "source": [
    "features=['OutstandingLoan', 'terms', 'disbursedamount', 'LastInstallmentAmount','Gender', \n",
    "          'terms_lapsed', 'defaulter','disbursed_outstanding_ratio']\n",
    "\n",
    "for f in features:\n",
    "    sns.countplot(x=f,data=df,palette=\"Set3\") \n",
    "    plt.xticks(rotation=45)\n",
    "    plt.show()"
   ]
  },
  {
   "cell_type": "markdown",
   "id": "51d2f33f",
   "metadata": {},
   "source": [
    "**Males were the most while unknown gender were the least**"
   ]
  },
  {
   "cell_type": "code",
   "execution_count": 16,
   "id": "30ccfda3",
   "metadata": {},
   "outputs": [
    {
     "name": "stdout",
     "output_type": "stream",
     "text": [
      "<class 'pandas.core.frame.DataFrame'>\n",
      "RangeIndex: 149321 entries, 0 to 149320\n",
      "Data columns (total 11 columns):\n",
      " #   Column                       Non-Null Count   Dtype         \n",
      "---  ------                       --------------   -----         \n",
      " 0   OutstandingLoan              149321 non-null  int64         \n",
      " 1   terms                        149321 non-null  int64         \n",
      " 2   disbursedamount              149321 non-null  int64         \n",
      " 3   installmentstartdate         149321 non-null  datetime64[ns]\n",
      " 4   Lastinstallmentdate          149321 non-null  datetime64[ns]\n",
      " 5   LastInstallmentAmount        149321 non-null  int64         \n",
      " 6   disbursementdate             149321 non-null  datetime64[ns]\n",
      " 7   Gender                       149321 non-null  object        \n",
      " 8   defaulter                    149321 non-null  object        \n",
      " 9   terms_lapsed                 149321 non-null  int64         \n",
      " 10  disbursed_outstanding_ratio  149321 non-null  int64         \n",
      "dtypes: datetime64[ns](3), int64(6), object(2)\n",
      "memory usage: 12.5+ MB\n"
     ]
    }
   ],
   "source": [
    "\"\"\"features = ['OutstandingLoan','terms','disbursedamount','LastInstallmentAmount','terms_lapsed',\n",
    "           \"disbursed_outstanding_ratio\",\"defaulter\"]\n",
    "for col in features:\n",
    "    df.boxplot(column=col, by='defaulter', figsize=(6,6))\n",
    "    plt.title(col)\n",
    "plt.show()\"\"\"\n",
    "df.info()"
   ]
  },
  {
   "cell_type": "code",
   "execution_count": 17,
   "id": "bd00bc0a",
   "metadata": {},
   "outputs": [
    {
     "data": {
      "text/plain": [
       "'#this took so long\\nsns.pairplot(data=df,palette=\"Set3\")'"
      ]
     },
     "execution_count": 17,
     "metadata": {},
     "output_type": "execute_result"
    }
   ],
   "source": [
    "\"\"\"#this took so long\n",
    "sns.pairplot(data=df,palette=\"Set3\")\"\"\""
   ]
  },
  {
   "cell_type": "code",
   "execution_count": 18,
   "id": "da5f8e56",
   "metadata": {},
   "outputs": [
    {
     "data": {
      "text/html": [
       "<div>\n",
       "<style scoped>\n",
       "    .dataframe tbody tr th:only-of-type {\n",
       "        vertical-align: middle;\n",
       "    }\n",
       "\n",
       "    .dataframe tbody tr th {\n",
       "        vertical-align: top;\n",
       "    }\n",
       "\n",
       "    .dataframe thead th {\n",
       "        text-align: right;\n",
       "    }\n",
       "</style>\n",
       "<table border=\"1\" class=\"dataframe\">\n",
       "  <thead>\n",
       "    <tr style=\"text-align: right;\">\n",
       "      <th></th>\n",
       "      <th>OutstandingLoan</th>\n",
       "      <th>terms</th>\n",
       "      <th>disbursedamount</th>\n",
       "      <th>LastInstallmentAmount</th>\n",
       "      <th>Gender</th>\n",
       "      <th>defaulter</th>\n",
       "      <th>terms_lapsed</th>\n",
       "      <th>disbursed_outstanding_ratio</th>\n",
       "    </tr>\n",
       "  </thead>\n",
       "  <tbody>\n",
       "    <tr>\n",
       "      <th>0</th>\n",
       "      <td>2</td>\n",
       "      <td>0</td>\n",
       "      <td>0</td>\n",
       "      <td>0</td>\n",
       "      <td>1</td>\n",
       "      <td>1</td>\n",
       "      <td>0</td>\n",
       "      <td>0</td>\n",
       "    </tr>\n",
       "    <tr>\n",
       "      <th>1</th>\n",
       "      <td>2</td>\n",
       "      <td>0</td>\n",
       "      <td>0</td>\n",
       "      <td>0</td>\n",
       "      <td>0</td>\n",
       "      <td>1</td>\n",
       "      <td>0</td>\n",
       "      <td>0</td>\n",
       "    </tr>\n",
       "    <tr>\n",
       "      <th>2</th>\n",
       "      <td>2</td>\n",
       "      <td>0</td>\n",
       "      <td>0</td>\n",
       "      <td>0</td>\n",
       "      <td>0</td>\n",
       "      <td>1</td>\n",
       "      <td>0</td>\n",
       "      <td>0</td>\n",
       "    </tr>\n",
       "    <tr>\n",
       "      <th>3</th>\n",
       "      <td>2</td>\n",
       "      <td>0</td>\n",
       "      <td>0</td>\n",
       "      <td>0</td>\n",
       "      <td>0</td>\n",
       "      <td>1</td>\n",
       "      <td>0</td>\n",
       "      <td>0</td>\n",
       "    </tr>\n",
       "    <tr>\n",
       "      <th>4</th>\n",
       "      <td>2</td>\n",
       "      <td>0</td>\n",
       "      <td>0</td>\n",
       "      <td>0</td>\n",
       "      <td>1</td>\n",
       "      <td>1</td>\n",
       "      <td>0</td>\n",
       "      <td>0</td>\n",
       "    </tr>\n",
       "  </tbody>\n",
       "</table>\n",
       "</div>"
      ],
      "text/plain": [
       "   OutstandingLoan  terms  disbursedamount  LastInstallmentAmount Gender  \\\n",
       "0                2      0                0                      0      1   \n",
       "1                2      0                0                      0      0   \n",
       "2                2      0                0                      0      0   \n",
       "3                2      0                0                      0      0   \n",
       "4                2      0                0                      0      1   \n",
       "\n",
       "  defaulter  terms_lapsed  disbursed_outstanding_ratio  \n",
       "0         1             0                            0  \n",
       "1         1             0                            0  \n",
       "2         1             0                            0  \n",
       "3         1             0                            0  \n",
       "4         1             0                            0  "
      ]
     },
     "execution_count": 18,
     "metadata": {},
     "output_type": "execute_result"
    }
   ],
   "source": [
    "# The dataset: we drop date columns since they contain no important information for our clustering activity.\n",
    "# We have actually done some feature engineering from the dates and created a new column; defaulter\n",
    "\n",
    "#we will drop defaulter = unkonwn and defaulter = no rows as it seems df is for defaulter\n",
    "#df=df[~((df.defaulter==0)|(df.defaulter==2))]\n",
    "df.drop(['installmentstartdate','Lastinstallmentdate','disbursementdate'], axis=1,inplace=True)\n",
    "df.head()"
   ]
  },
  {
   "cell_type": "markdown",
   "id": "b922784d",
   "metadata": {},
   "source": [
    "# PREDICTION AND CREDIT RATING\n",
    "## The problem\n",
    "\n",
    "1. Segmentation of customers with similar credit behaviours\n",
    "2. identify the common characteristics in each of the clusters\n",
    "3. Develop a system that can give credit rating for a customer. This rating can be used to judge whether to lend to them and if yes,  the amounts that are ideal for lending to them. This will help the business reduce non-performing loans"
   ]
  },
  {
   "cell_type": "code",
   "execution_count": 19,
   "id": "5e39696a",
   "metadata": {},
   "outputs": [
    {
     "name": "stdout",
     "output_type": "stream",
     "text": [
      "The number of values of features : OutstandingLoan is : 3 which are -- [0 1 2]\n",
      "The number of values of features : terms is : 3 which are -- [0 1 2]\n",
      "The number of values of features : disbursedamount is : 3 which are -- [0 1 2]\n",
      "The number of values of features : LastInstallmentAmount is : 3 which are -- [0 1 2]\n",
      "The number of values of features : Gender is : 3 which are -- [0 1 2]\n",
      "The number of values of features : defaulter is : 3 which are -- [0 1 2]\n",
      "The number of values of features : terms_lapsed is : 3 which are -- [0 1 2]\n",
      "The number of values of features : disbursed_outstanding_ratio is : 3 which are -- [0 1 2]\n"
     ]
    }
   ],
   "source": [
    "for column in df:\n",
    "    unique_vals=np.unique(df[column])\n",
    "    len_unique=len(unique_vals)\n",
    "    if len_unique<10:\n",
    "        print(\"The number of values of features : {} is : {} which are -- {}\".format(column,len_unique,unique_vals))\n",
    "        \n",
    "    else:\n",
    "        print(\"The number of values of features : {} is : {}\".format(column,len_unique))"
   ]
  },
  {
   "cell_type": "code",
   "execution_count": 20,
   "id": "8d50d934",
   "metadata": {},
   "outputs": [],
   "source": [
    "#predict_df.groupby(\"defaulter\").size()"
   ]
  },
  {
   "cell_type": "code",
   "execution_count": 21,
   "id": "f71f7b54",
   "metadata": {},
   "outputs": [
    {
     "name": "stdout",
     "output_type": "stream",
     "text": [
      "The clusters are: [4 4 4 ... 0 0 0]\n",
      "The inertia is: 280760.632793947\n"
     ]
    }
   ],
   "source": [
    "#Get the train data\n",
    "X_train=df.values\n",
    "\n",
    "#running kmeans \n",
    "kmeans=KMeans(n_clusters=5,random_state=540)\n",
    "kmeans=kmeans.fit(X_train)\n",
    "\n",
    "#print the cluster assigned to each observation\n",
    "print(\"The clusters are:\",kmeans.labels_)\n",
    "\n",
    "#print the inertia\n",
    "print(\"The inertia is:\",kmeans.inertia_)"
   ]
  },
  {
   "cell_type": "code",
   "execution_count": 22,
   "id": "cea91fce",
   "metadata": {},
   "outputs": [
    {
     "name": "stdout",
     "output_type": "stream",
     "text": [
      "The inertia for 2 is 435066.9935203006\n",
      "The inertia for 3 is 357625.94311398733\n",
      "The inertia for 4 is 317522.18947382516\n",
      "The inertia for 5 is 280354.1948962724\n",
      "The inertia for 6 is 253101.66467658774\n",
      "The inertia for 7 is 232723.03309276834\n",
      "The inertia for 8 is 219198.9309080343\n",
      "The inertia for 9 is 203887.3388284323\n",
      "The inertia for 10 is 197035.59071036766\n",
      "The inertia for 11 is 183996.43565360186\n",
      "The inertia for 12 is 178315.81694432066\n",
      "The inertia for 13 is 171210.03130563186\n",
      "The inertia for 14 is 163255.96581045387\n",
      "The inertia for 15 is 159819.87729463988\n",
      "The inertia for 16 is 156303.47355456388\n",
      "The inertia for 17 is 151545.05838556477\n",
      "The inertia for 18 is 144336.54294503538\n",
      "The inertia for 19 is 144563.4071789343\n"
     ]
    }
   ],
   "source": [
    "# finding best inertia\n",
    "\n",
    "nclusters=range(2,20)\n",
    "inertia=[]\n",
    "for n in nclusters:\n",
    "    kmeans=KMeans(n_clusters=n,random_state=2)\n",
    "    kmeans=kmeans.fit(X_train)\n",
    "    u=kmeans.inertia_\n",
    "    inertia.append(u)\n",
    "    print('The inertia for {} is {}'.format(n,u))"
   ]
  },
  {
   "cell_type": "code",
   "execution_count": 23,
   "id": "7e8cbe91",
   "metadata": {},
   "outputs": [
    {
     "data": {
      "text/plain": [
       "Text(0.5, 1.0, 'Inertia Plot Per Cluster')"
      ]
     },
     "execution_count": 23,
     "metadata": {},
     "output_type": "execute_result"
    },
    {
     "data": {
      "image/png": "[encoded data removed]",
      "text/plain": [
       "<Figure size 1152x432 with 1 Axes>"
      ]
     },
     "metadata": {
      "needs_background": "light"
     },
     "output_type": "display_data"
    }
   ],
   "source": [
    "#elbow method for inertia\n",
    "fig,(ax1)=plt.subplots(1,figsize=(16,6))\n",
    "xx=np.arange(len(nclusters))\n",
    "ax1.plot(xx,inertia)\n",
    "ax1.set_xticks(xx)\n",
    "ax1.set_xticklabels(nclusters,rotation=45)\n",
    "plt.xlabel(\"Number of Clusters\")\n",
    "plt.ylabel(\"Inertia Score\")\n",
    "plt.title(\"Inertia Plot Per Cluster\")"
   ]
  },
  {
   "cell_type": "code",
   "execution_count": 24,
   "id": "5f06f36a",
   "metadata": {},
   "outputs": [
    {
     "data": {
      "text/html": [
       "<div>\n",
       "<style scoped>\n",
       "    .dataframe tbody tr th:only-of-type {\n",
       "        vertical-align: middle;\n",
       "    }\n",
       "\n",
       "    .dataframe tbody tr th {\n",
       "        vertical-align: top;\n",
       "    }\n",
       "\n",
       "    .dataframe thead th {\n",
       "        text-align: right;\n",
       "    }\n",
       "</style>\n",
       "<table border=\"1\" class=\"dataframe\">\n",
       "  <thead>\n",
       "    <tr style=\"text-align: right;\">\n",
       "      <th></th>\n",
       "      <th>Cluster 1</th>\n",
       "      <th>Cluster 2</th>\n",
       "      <th>Cluster 3</th>\n",
       "    </tr>\n",
       "  </thead>\n",
       "  <tbody>\n",
       "    <tr>\n",
       "      <th>0</th>\n",
       "      <td>39530</td>\n",
       "      <td>54451</td>\n",
       "      <td>55340</td>\n",
       "    </tr>\n",
       "  </tbody>\n",
       "</table>\n",
       "</div>"
      ],
      "text/plain": [
       "   Cluster 1  Cluster 2  Cluster 3\n",
       "0      39530      54451      55340"
      ]
     },
     "execution_count": 24,
     "metadata": {},
     "output_type": "execute_result"
    }
   ],
   "source": [
    "#Get the train data\n",
    "X_train=df.values\n",
    "\n",
    "#running kmeans \n",
    "kmeans=KMeans(n_clusters=3,random_state=540)\n",
    "kmeans=kmeans.fit(X_train)\n",
    "\n",
    "#prediction for new data\n",
    "predictions=kmeans.predict(X_train)\n",
    "\n",
    "#calculating the count of the clusters\n",
    "unique,counts=np.unique(predictions, return_counts=True)\n",
    "counts=counts.reshape(1,3)\n",
    "\n",
    "clcounts_df=pd.DataFrame(counts,columns=[\"Cluster 1\",\"Cluster 2\",\"Cluster 3\"])\n",
    "clcounts_df"
   ]
  },
  {
   "cell_type": "markdown",
   "id": "cb674b86",
   "metadata": {},
   "source": [
    " # PCA"
   ]
  },
  {
   "cell_type": "code",
   "execution_count": 25,
   "id": "d15e8102",
   "metadata": {
    "scrolled": false
   },
   "outputs": [
    {
     "name": "stdout",
     "output_type": "stream",
     "text": [
      "Explained Variation (first two componens): [0.44200519 0.21319806]\n"
     ]
    },
    {
     "data": {
      "text/plain": [
       "<Figure size 432x288 with 0 Axes>"
      ]
     },
     "metadata": {},
     "output_type": "display_data"
    },
    {
     "data": {
      "image/png": "[encoded data removed]",
      "text/plain": [
       "<Figure size 864x576 with 1 Axes>"
      ]
     },
     "metadata": {
      "needs_background": "light"
     },
     "output_type": "display_data"
    }
   ],
   "source": [
    "from sklearn.decomposition import PCA\n",
    "from sklearn.discriminant_analysis import LinearDiscriminantAnalysis\n",
    "\n",
    "X = X_train\n",
    "y_num = predictions\n",
    "\n",
    "target_names = [\"Cluster 1\",\"Cluster 2\",\"Cluster 3\"]\n",
    "pca=PCA(n_components=2, random_state =453)\n",
    "X_r=pca.fit(X).transform(X)\n",
    "\n",
    "# % OF VARIANCE explained by each component\n",
    "print(\"Explained Variation (first two componens): %s\" %str(pca.explained_variance_ratio_))\n",
    "\n",
    "#plotting the data\n",
    "plt.figure()\n",
    "plt.figure(figsize=(12,8))\n",
    "colors=[\"navy\",\"turquoise\",\"darkorange\",\"red\",\"black\"]\n",
    "lw=2\n",
    "\n",
    "for color, i, target_name in zip(colors, [0,1,2],target_names):\n",
    "    plt.scatter(X_r[y_num==i,0],X_r[y_num == i,1],color=color,alpha=0.8,lw=lw,label=target_name)\n",
    "    \n",
    "plt.legend(loc=\"best\",shadow=False,scatterpoints=1)\n",
    "plt.legend(bbox_to_anchor=(1.05,1),loc=2,borderaxespad=0.6)\n",
    "plt.title(\"PCA of 2 Items\")\n",
    "plt.show()"
   ]
  },
  {
   "cell_type": "code",
   "execution_count": 26,
   "id": "bebdbedf",
   "metadata": {},
   "outputs": [
    {
     "name": "stdout",
     "output_type": "stream",
     "text": [
      "Total Variance in our dataset is :  4.327577788307964\n",
      "The 95% variance we weant to have is :  4.111198898892566\n",
      "\n",
      "Variance Explained With 2 n_components: 2.8354430237176897\n",
      "Variance Explained With 3 n_components: 3.4392153262570426\n",
      "Variance Explained With 4 n_components: 3.891037935701698\n",
      "Variance Explained With 5 n_components: 4.091478849091813\n",
      "Variance Explained With 6 n_components: 4.235431827065212\n",
      "Variance Explained With 7 n_components: 4.321708213652514\n",
      "Variance Explained With 8 n_components: 4.327577788307964\n"
     ]
    },
    {
     "data": {
      "image/png": "[encoded data removed]",
      "text/plain": [
       "<Figure size 1008x576 with 1 Axes>"
      ]
     },
     "metadata": {
      "needs_background": "light"
     },
     "output_type": "display_data"
    }
   ],
   "source": [
    "#trying with dimensionality reduction and then kmeans\n",
    "n_components=X.shape[1]\n",
    "#running PCA with all components\n",
    "pca=PCA(n_components=n_components, random_state =453)\n",
    "X_r=pca.fit(X).transform(X)\n",
    "\n",
    "#calculatig the 95% variance\n",
    "total_variance=sum(pca.explained_variance_)\n",
    "print(\"Total Variance in our dataset is : \",total_variance)\n",
    "var_95=total_variance*0.95\n",
    "print(\"The 95% variance we weant to have is : \", var_95)\n",
    "print(\"\")\n",
    "\n",
    "#creating of a df with the components and explained variance\n",
    "a=zip(range(0,n_components),pca.explained_variance_)\n",
    "a=pd.DataFrame(a,columns=[\"PCA Comp\",'Explained Variance'])\n",
    "\n",
    "#Trying to hit 95%\n",
    "print(\"Variance Explained With 2 n_components:\", sum(a[\"Explained Variance\"][0:2]))\n",
    "print(\"Variance Explained With 3 n_components:\", sum(a[\"Explained Variance\"][0:3]))\n",
    "print(\"Variance Explained With 4 n_components:\", sum(a[\"Explained Variance\"][0:4]))\n",
    "print(\"Variance Explained With 5 n_components:\", sum(a[\"Explained Variance\"][0:5]))\n",
    "print(\"Variance Explained With 6 n_components:\", sum(a[\"Explained Variance\"][0:6]))\n",
    "print(\"Variance Explained With 7 n_components:\", sum(a[\"Explained Variance\"][0:7]))\n",
    "print(\"Variance Explained With 8 n_components:\", sum(a[\"Explained Variance\"][0:8]))\n",
    "\n",
    "#plotting the data\n",
    "plt.figure(1,figsize=(14,8))\n",
    "plt.plot(pca.explained_variance_ratio_,linewidth=2,c='r')\n",
    "plt.xlabel('n_componenst')\n",
    "plt.ylabel('explained_ratio')\n",
    "\n",
    "#plotiing line with 95%\n",
    "plt.axvline(6,linestyle=':',label='n_components -95% explained',c='blue')\n",
    "plt.legend(prop=dict(size=12))\n",
    "\n",
    "#adding arrow\n",
    "plt.annotate('6 eigenvectors used to explain 95% variance',xy=(6,pca.explained_variance_ratio_[6]),\n",
    "                                                               xytext=(8,pca.explained_variance_ratio_[1]),\n",
    "                                                              arrowprops=dict(facecolor='blue',shrink=0.05))\n",
    "plt.show()"
   ]
  },
  {
   "cell_type": "code",
   "execution_count": 27,
   "id": "dbdd4cfa",
   "metadata": {},
   "outputs": [
    {
     "name": "stdout",
     "output_type": "stream",
     "text": [
      "The inertia for 2 is 435066.9935203006\n",
      "The inertia for 3 is 357625.94311398733\n",
      "The inertia for 4 is 317522.18947382516\n",
      "The inertia for 5 is 280354.1948962724\n",
      "The inertia for 6 is 253101.66467658774\n",
      "The inertia for 7 is 232723.03309276834\n",
      "The inertia for 8 is 219198.9309080343\n",
      "The inertia for 9 is 203887.33882843226\n",
      "The inertia for 10 is 197035.59071036766\n",
      "The inertia for 11 is 183996.43565360186\n",
      "The inertia for 12 is 178315.81694432066\n",
      "The inertia for 13 is 171210.03130563186\n",
      "The inertia for 14 is 163255.96581045387\n",
      "The inertia for 15 is 159819.87729463994\n",
      "The inertia for 16 is 156303.47355456388\n",
      "The inertia for 17 is 151545.05838556477\n",
      "The inertia for 18 is 144336.54294503538\n",
      "The inertia for 19 is 144563.4071789343\n"
     ]
    },
    {
     "data": {
      "text/plain": [
       "Text(0.5, 1.0, 'Inertia Plot Per Cluster')"
      ]
     },
     "execution_count": 27,
     "metadata": {},
     "output_type": "execute_result"
    },
    {
     "data": {
      "image/png": "[encoded data removed]",
      "text/plain": [
       "<Figure size 1152x432 with 1 Axes>"
      ]
     },
     "metadata": {
      "needs_background": "light"
     },
     "output_type": "display_data"
    }
   ],
   "source": [
    "#running PCA with 6 n_components\n",
    "pca=PCA(n_components=6, random_state =453)\n",
    "X_r=pca.fit(X).transform(X)\n",
    "\n",
    "\n",
    "inertia=[]\n",
    "for n in nclusters:\n",
    "    kmeans=KMeans(n_clusters=n,random_state=2)\n",
    "    kmeans=kmeans.fit(X_train)\n",
    "    u=kmeans.inertia_\n",
    "    inertia.append(u)\n",
    "    print('The inertia for {} is {}'.format(n,u))\n",
    "    \n",
    "#elbow method for inertia\n",
    "fig,(ax1)=plt.subplots(1,figsize=(16,6))\n",
    "xx=np.arange(len(nclusters))\n",
    "ax1.plot(xx,inertia)\n",
    "ax1.set_xticks(xx)\n",
    "ax1.set_xticklabels(nclusters,rotation=45)\n",
    "plt.xlabel(\"Number of Clusters\")\n",
    "plt.ylabel(\"Inertia Score\")\n",
    "plt.title(\"Inertia Plot Per Cluster\")"
   ]
  },
  {
   "cell_type": "code",
   "execution_count": 28,
   "id": "ed210db7",
   "metadata": {},
   "outputs": [
    {
     "data": {
      "text/html": [
       "<div>\n",
       "<style scoped>\n",
       "    .dataframe tbody tr th:only-of-type {\n",
       "        vertical-align: middle;\n",
       "    }\n",
       "\n",
       "    .dataframe tbody tr th {\n",
       "        vertical-align: top;\n",
       "    }\n",
       "\n",
       "    .dataframe thead th {\n",
       "        text-align: right;\n",
       "    }\n",
       "</style>\n",
       "<table border=\"1\" class=\"dataframe\">\n",
       "  <thead>\n",
       "    <tr style=\"text-align: right;\">\n",
       "      <th></th>\n",
       "      <th>OutstandingLoan</th>\n",
       "      <th>terms</th>\n",
       "      <th>disbursedamount</th>\n",
       "      <th>LastInstallmentAmount</th>\n",
       "      <th>Gender</th>\n",
       "      <th>defaulter</th>\n",
       "      <th>terms_lapsed</th>\n",
       "      <th>disbursed_outstanding_ratio</th>\n",
       "      <th>clusters</th>\n",
       "      <th>cluster_category</th>\n",
       "    </tr>\n",
       "  </thead>\n",
       "  <tbody>\n",
       "    <tr>\n",
       "      <th>0</th>\n",
       "      <td>2</td>\n",
       "      <td>0</td>\n",
       "      <td>0</td>\n",
       "      <td>0</td>\n",
       "      <td>1</td>\n",
       "      <td>1</td>\n",
       "      <td>0</td>\n",
       "      <td>0</td>\n",
       "      <td>1</td>\n",
       "      <td>cluster 2</td>\n",
       "    </tr>\n",
       "    <tr>\n",
       "      <th>1</th>\n",
       "      <td>2</td>\n",
       "      <td>0</td>\n",
       "      <td>0</td>\n",
       "      <td>0</td>\n",
       "      <td>0</td>\n",
       "      <td>1</td>\n",
       "      <td>0</td>\n",
       "      <td>0</td>\n",
       "      <td>1</td>\n",
       "      <td>cluster 2</td>\n",
       "    </tr>\n",
       "    <tr>\n",
       "      <th>2</th>\n",
       "      <td>2</td>\n",
       "      <td>0</td>\n",
       "      <td>0</td>\n",
       "      <td>0</td>\n",
       "      <td>0</td>\n",
       "      <td>1</td>\n",
       "      <td>0</td>\n",
       "      <td>0</td>\n",
       "      <td>1</td>\n",
       "      <td>cluster 2</td>\n",
       "    </tr>\n",
       "    <tr>\n",
       "      <th>3</th>\n",
       "      <td>2</td>\n",
       "      <td>0</td>\n",
       "      <td>0</td>\n",
       "      <td>0</td>\n",
       "      <td>0</td>\n",
       "      <td>1</td>\n",
       "      <td>0</td>\n",
       "      <td>0</td>\n",
       "      <td>1</td>\n",
       "      <td>cluster 2</td>\n",
       "    </tr>\n",
       "    <tr>\n",
       "      <th>4</th>\n",
       "      <td>2</td>\n",
       "      <td>0</td>\n",
       "      <td>0</td>\n",
       "      <td>0</td>\n",
       "      <td>1</td>\n",
       "      <td>1</td>\n",
       "      <td>0</td>\n",
       "      <td>0</td>\n",
       "      <td>1</td>\n",
       "      <td>cluster 2</td>\n",
       "    </tr>\n",
       "  </tbody>\n",
       "</table>\n",
       "</div>"
      ],
      "text/plain": [
       "   OutstandingLoan  terms  disbursedamount  LastInstallmentAmount Gender  \\\n",
       "0                2      0                0                      0      1   \n",
       "1                2      0                0                      0      0   \n",
       "2                2      0                0                      0      0   \n",
       "3                2      0                0                      0      0   \n",
       "4                2      0                0                      0      1   \n",
       "\n",
       "  defaulter  terms_lapsed  disbursed_outstanding_ratio  clusters  \\\n",
       "0         1             0                            0         1   \n",
       "1         1             0                            0         1   \n",
       "2         1             0                            0         1   \n",
       "3         1             0                            0         1   \n",
       "4         1             0                            0         1   \n",
       "\n",
       "  cluster_category  \n",
       "0        cluster 2  \n",
       "1        cluster 2  \n",
       "2        cluster 2  \n",
       "3        cluster 2  \n",
       "4        cluster 2  "
      ]
     },
     "execution_count": 28,
     "metadata": {},
     "output_type": "execute_result"
    }
   ],
   "source": [
    "#running PCA with 6 n_components\n",
    "pca=PCA(n_components=6, random_state =453)\n",
    "X_r=pca.fit(X).transform(X)\n",
    "\n",
    "\n",
    "#running kmeans  with 3 clusters\n",
    "kmeans=KMeans(n_clusters=3,random_state=540)\n",
    "kmeans=kmeans.fit(X_train)\n",
    "\n",
    "clusters=kmeans.labels_\n",
    "\n",
    "#attach clusters to original dataset\n",
    "df['clusters']=kmeans.labels_\n",
    "\n",
    "#create a cluster category\n",
    "df[\"cluster_category\"]=\"No Data\"\n",
    "df.loc[df.clusters==0,'cluster_category']='cluster 1'\n",
    "df.loc[df.clusters==1,'cluster_category']='cluster 2'\n",
    "df.loc[df.clusters==2,'cluster_category']='cluster 3'\n",
    "df.head()"
   ]
  },
  {
   "cell_type": "code",
   "execution_count": 29,
   "id": "5e3a7b12",
   "metadata": {},
   "outputs": [
    {
     "data": {
      "text/plain": [
       "Index(['OutstandingLoan', 'terms', 'disbursedamount', 'LastInstallmentAmount',\n",
       "       'Gender', 'defaulter', 'terms_lapsed', 'disbursed_outstanding_ratio',\n",
       "       'clusters', 'cluster_category'],\n",
       "      dtype='object')"
      ]
     },
     "execution_count": 29,
     "metadata": {},
     "output_type": "execute_result"
    }
   ],
   "source": [
    "df.columns"
   ]
  },
  {
   "cell_type": "code",
   "execution_count": 30,
   "id": "a2fb63fa",
   "metadata": {},
   "outputs": [
    {
     "name": "stderr",
     "output_type": "stream",
     "text": [
      "C:\\Users\\julmn\\AppData\\Local\\Temp\\ipykernel_11268\\3796329904.py:1: SettingWithCopyWarning: \n",
      "A value is trying to be set on a copy of a slice from a DataFrame\n",
      "\n",
      "See the caveats in the documentation: https://pandas.pydata.org/pandas-docs/stable/user_guide/indexing.html#returning-a-view-versus-a-copy\n",
      "  df['OutstandingLoan'].loc[df['OutstandingLoan']==1]=\"Betwn 0 & 48,000\"\n",
      "C:\\Users\\julmn\\AppData\\Local\\Temp\\ipykernel_11268\\3796329904.py:5: SettingWithCopyWarning: \n",
      "A value is trying to be set on a copy of a slice from a DataFrame\n",
      "\n",
      "See the caveats in the documentation: https://pandas.pydata.org/pandas-docs/stable/user_guide/indexing.html#returning-a-view-versus-a-copy\n",
      "  df['terms'].loc[df['terms']==0]=\"Betwn 0 & 3\"\n",
      "C:\\Users\\julmn\\AppData\\Local\\Temp\\ipykernel_11268\\3796329904.py:9: SettingWithCopyWarning: \n",
      "A value is trying to be set on a copy of a slice from a DataFrame\n",
      "\n",
      "See the caveats in the documentation: https://pandas.pydata.org/pandas-docs/stable/user_guide/indexing.html#returning-a-view-versus-a-copy\n",
      "  df['disbursedamount'].loc[df['disbursedamount']==0]=\"Betwn 0 & 9,000\"\n",
      "C:\\Users\\julmn\\AppData\\Local\\Temp\\ipykernel_11268\\3796329904.py:13: SettingWithCopyWarning: \n",
      "A value is trying to be set on a copy of a slice from a DataFrame\n",
      "\n",
      "See the caveats in the documentation: https://pandas.pydata.org/pandas-docs/stable/user_guide/indexing.html#returning-a-view-versus-a-copy\n",
      "  df['LastInstallmentAmount'].loc[df['LastInstallmentAmount']==0]=\"Betwn 0 & 2,500\"\n",
      "C:\\Users\\julmn\\AppData\\Local\\Temp\\ipykernel_11268\\3796329904.py:17: SettingWithCopyWarning: \n",
      "A value is trying to be set on a copy of a slice from a DataFrame\n",
      "\n",
      "See the caveats in the documentation: https://pandas.pydata.org/pandas-docs/stable/user_guide/indexing.html#returning-a-view-versus-a-copy\n",
      "  df['disbursed_outstanding_ratio'].loc[df['disbursed_outstanding_ratio']==0]=\"Betwn 0 & 0.2\"\n",
      "C:\\Users\\julmn\\AppData\\Local\\Temp\\ipykernel_11268\\3796329904.py:21: SettingWithCopyWarning: \n",
      "A value is trying to be set on a copy of a slice from a DataFrame\n",
      "\n",
      "See the caveats in the documentation: https://pandas.pydata.org/pandas-docs/stable/user_guide/indexing.html#returning-a-view-versus-a-copy\n",
      "  df['terms_lapsed'].loc[df['terms_lapsed']==0]=\"Betwn 0 & 70\"\n",
      "C:\\Users\\julmn\\AppData\\Local\\Temp\\ipykernel_11268\\3796329904.py:25: SettingWithCopyWarning: \n",
      "A value is trying to be set on a copy of a slice from a DataFrame\n",
      "\n",
      "See the caveats in the documentation: https://pandas.pydata.org/pandas-docs/stable/user_guide/indexing.html#returning-a-view-versus-a-copy\n",
      "  df['Gender'].loc[df['Gender']==0]=\"Female\"\n",
      "C:\\Users\\julmn\\AppData\\Local\\Temp\\ipykernel_11268\\3796329904.py:26: SettingWithCopyWarning: \n",
      "A value is trying to be set on a copy of a slice from a DataFrame\n",
      "\n",
      "See the caveats in the documentation: https://pandas.pydata.org/pandas-docs/stable/user_guide/indexing.html#returning-a-view-versus-a-copy\n",
      "  df['Gender'].loc[df['Gender']==1]=\"Male\"\n",
      "C:\\Users\\julmn\\AppData\\Local\\Temp\\ipykernel_11268\\3796329904.py:27: SettingWithCopyWarning: \n",
      "A value is trying to be set on a copy of a slice from a DataFrame\n",
      "\n",
      "See the caveats in the documentation: https://pandas.pydata.org/pandas-docs/stable/user_guide/indexing.html#returning-a-view-versus-a-copy\n",
      "  df['Gender'].loc[df['Gender']==2]=\"Undisclosed\"\n",
      "C:\\Users\\julmn\\AppData\\Local\\Temp\\ipykernel_11268\\3796329904.py:29: SettingWithCopyWarning: \n",
      "A value is trying to be set on a copy of a slice from a DataFrame\n",
      "\n",
      "See the caveats in the documentation: https://pandas.pydata.org/pandas-docs/stable/user_guide/indexing.html#returning-a-view-versus-a-copy\n",
      "  df['defaulter'].loc[df['defaulter']==0]=\"No\"\n",
      "C:\\Users\\julmn\\AppData\\Local\\Temp\\ipykernel_11268\\3796329904.py:30: SettingWithCopyWarning: \n",
      "A value is trying to be set on a copy of a slice from a DataFrame\n",
      "\n",
      "See the caveats in the documentation: https://pandas.pydata.org/pandas-docs/stable/user_guide/indexing.html#returning-a-view-versus-a-copy\n",
      "  df['defaulter'].loc[df['defaulter']==1]=\"Yes\"\n",
      "C:\\Users\\julmn\\AppData\\Local\\Temp\\ipykernel_11268\\3796329904.py:31: SettingWithCopyWarning: \n",
      "A value is trying to be set on a copy of a slice from a DataFrame\n",
      "\n",
      "See the caveats in the documentation: https://pandas.pydata.org/pandas-docs/stable/user_guide/indexing.html#returning-a-view-versus-a-copy\n",
      "  df['defaulter'].loc[df['defaulter']==2]=\"Unknown\"\n"
     ]
    }
   ],
   "source": [
    "df['OutstandingLoan'].loc[df['OutstandingLoan']==1]=\"Betwn 0 & 48,000\"\n",
    "df['OutstandingLoan'].loc[df['OutstandingLoan']==0]=\"Betwn 49,000 & 60,000\"\n",
    "df['OutstandingLoan'].loc[df['OutstandingLoan']==2]=\"Above 60,000\"\n",
    "\n",
    "df['terms'].loc[df['terms']==0]=\"Betwn 0 & 3\"\n",
    "df['terms'].loc[df['terms']==2]=\"Betwn 3 & 12\"\n",
    "df['terms'].loc[df['terms']==1]=\"Above 12\"\n",
    "\n",
    "df['disbursedamount'].loc[df['disbursedamount']==0]=\"Betwn 0 & 9,000\"\n",
    "df['disbursedamount'].loc[df['disbursedamount']==1]=\"Betwn 9,000 & 40,000\"\n",
    "df['disbursedamount'].loc[df['disbursedamount']==2]=\"Above 40,000\"\n",
    "\n",
    "df['LastInstallmentAmount'].loc[df['LastInstallmentAmount']==0]=\"Betwn 0 & 2,500\"\n",
    "df['LastInstallmentAmount'].loc[df['LastInstallmentAmount']==1]=\"Betwn 2,500 & 5800\"\n",
    "df['LastInstallmentAmount'].loc[df['LastInstallmentAmount']==2]=\"Above 5,800\"\n",
    "\n",
    "df['disbursed_outstanding_ratio'].loc[df['disbursed_outstanding_ratio']==0]=\"Betwn 0 & 0.2\"\n",
    "df['disbursed_outstanding_ratio'].loc[df['disbursed_outstanding_ratio']==1]=\"Betwn 0.2 & 1\"\n",
    "df['disbursed_outstanding_ratio'].loc[df['disbursed_outstanding_ratio']==2]=\"Above 1\"\n",
    "\n",
    "df['terms_lapsed'].loc[df['terms_lapsed']==0]=\"Betwn 0 & 70\"\n",
    "df['terms_lapsed'].loc[df['terms_lapsed']==1]=\"Betwn 70 & 121\"\n",
    "df['terms_lapsed'].loc[df['terms_lapsed']==2]=\"Above 121\"\n",
    "\n",
    "df['Gender'].loc[df['Gender']==0]=\"Female\"\n",
    "df['Gender'].loc[df['Gender']==1]=\"Male\"\n",
    "df['Gender'].loc[df['Gender']==2]=\"Undisclosed\"\n",
    "\n",
    "df['defaulter'].loc[df['defaulter']==0]=\"No\"\n",
    "df['defaulter'].loc[df['defaulter']==1]=\"Yes\"\n",
    "df['defaulter'].loc[df['defaulter']==2]=\"Unknown\""
   ]
  },
  {
   "cell_type": "code",
   "execution_count": 31,
   "id": "a45096cb",
   "metadata": {},
   "outputs": [
    {
     "data": {
      "text/html": [
       "<div>\n",
       "<style scoped>\n",
       "    .dataframe tbody tr th:only-of-type {\n",
       "        vertical-align: middle;\n",
       "    }\n",
       "\n",
       "    .dataframe tbody tr th {\n",
       "        vertical-align: top;\n",
       "    }\n",
       "\n",
       "    .dataframe thead th {\n",
       "        text-align: right;\n",
       "    }\n",
       "</style>\n",
       "<table border=\"1\" class=\"dataframe\">\n",
       "  <thead>\n",
       "    <tr style=\"text-align: right;\">\n",
       "      <th></th>\n",
       "      <th>OutstandingLoan</th>\n",
       "      <th>terms</th>\n",
       "      <th>disbursedamount</th>\n",
       "      <th>LastInstallmentAmount</th>\n",
       "      <th>Gender</th>\n",
       "      <th>defaulter</th>\n",
       "      <th>terms_lapsed</th>\n",
       "      <th>disbursed_outstanding_ratio</th>\n",
       "      <th>clusters</th>\n",
       "      <th>cluster_category</th>\n",
       "    </tr>\n",
       "  </thead>\n",
       "  <tbody>\n",
       "    <tr>\n",
       "      <th>0</th>\n",
       "      <td>Above 60,000</td>\n",
       "      <td>Betwn 0 &amp; 3</td>\n",
       "      <td>Betwn 0 &amp; 9,000</td>\n",
       "      <td>Betwn 0 &amp; 2,500</td>\n",
       "      <td>Male</td>\n",
       "      <td>Yes</td>\n",
       "      <td>Betwn 0 &amp; 70</td>\n",
       "      <td>Betwn 0 &amp; 0.2</td>\n",
       "      <td>1</td>\n",
       "      <td>cluster 2</td>\n",
       "    </tr>\n",
       "    <tr>\n",
       "      <th>1</th>\n",
       "      <td>Above 60,000</td>\n",
       "      <td>Betwn 0 &amp; 3</td>\n",
       "      <td>Betwn 0 &amp; 9,000</td>\n",
       "      <td>Betwn 0 &amp; 2,500</td>\n",
       "      <td>Female</td>\n",
       "      <td>Yes</td>\n",
       "      <td>Betwn 0 &amp; 70</td>\n",
       "      <td>Betwn 0 &amp; 0.2</td>\n",
       "      <td>1</td>\n",
       "      <td>cluster 2</td>\n",
       "    </tr>\n",
       "    <tr>\n",
       "      <th>2</th>\n",
       "      <td>Above 60,000</td>\n",
       "      <td>Betwn 0 &amp; 3</td>\n",
       "      <td>Betwn 0 &amp; 9,000</td>\n",
       "      <td>Betwn 0 &amp; 2,500</td>\n",
       "      <td>Female</td>\n",
       "      <td>Yes</td>\n",
       "      <td>Betwn 0 &amp; 70</td>\n",
       "      <td>Betwn 0 &amp; 0.2</td>\n",
       "      <td>1</td>\n",
       "      <td>cluster 2</td>\n",
       "    </tr>\n",
       "    <tr>\n",
       "      <th>3</th>\n",
       "      <td>Above 60,000</td>\n",
       "      <td>Betwn 0 &amp; 3</td>\n",
       "      <td>Betwn 0 &amp; 9,000</td>\n",
       "      <td>Betwn 0 &amp; 2,500</td>\n",
       "      <td>Female</td>\n",
       "      <td>Yes</td>\n",
       "      <td>Betwn 0 &amp; 70</td>\n",
       "      <td>Betwn 0 &amp; 0.2</td>\n",
       "      <td>1</td>\n",
       "      <td>cluster 2</td>\n",
       "    </tr>\n",
       "    <tr>\n",
       "      <th>4</th>\n",
       "      <td>Above 60,000</td>\n",
       "      <td>Betwn 0 &amp; 3</td>\n",
       "      <td>Betwn 0 &amp; 9,000</td>\n",
       "      <td>Betwn 0 &amp; 2,500</td>\n",
       "      <td>Male</td>\n",
       "      <td>Yes</td>\n",
       "      <td>Betwn 0 &amp; 70</td>\n",
       "      <td>Betwn 0 &amp; 0.2</td>\n",
       "      <td>1</td>\n",
       "      <td>cluster 2</td>\n",
       "    </tr>\n",
       "  </tbody>\n",
       "</table>\n",
       "</div>"
      ],
      "text/plain": [
       "  OutstandingLoan        terms  disbursedamount LastInstallmentAmount  Gender  \\\n",
       "0    Above 60,000  Betwn 0 & 3  Betwn 0 & 9,000       Betwn 0 & 2,500    Male   \n",
       "1    Above 60,000  Betwn 0 & 3  Betwn 0 & 9,000       Betwn 0 & 2,500  Female   \n",
       "2    Above 60,000  Betwn 0 & 3  Betwn 0 & 9,000       Betwn 0 & 2,500  Female   \n",
       "3    Above 60,000  Betwn 0 & 3  Betwn 0 & 9,000       Betwn 0 & 2,500  Female   \n",
       "4    Above 60,000  Betwn 0 & 3  Betwn 0 & 9,000       Betwn 0 & 2,500    Male   \n",
       "\n",
       "  defaulter  terms_lapsed disbursed_outstanding_ratio  clusters  \\\n",
       "0       Yes  Betwn 0 & 70               Betwn 0 & 0.2         1   \n",
       "1       Yes  Betwn 0 & 70               Betwn 0 & 0.2         1   \n",
       "2       Yes  Betwn 0 & 70               Betwn 0 & 0.2         1   \n",
       "3       Yes  Betwn 0 & 70               Betwn 0 & 0.2         1   \n",
       "4       Yes  Betwn 0 & 70               Betwn 0 & 0.2         1   \n",
       "\n",
       "  cluster_category  \n",
       "0        cluster 2  \n",
       "1        cluster 2  \n",
       "2        cluster 2  \n",
       "3        cluster 2  \n",
       "4        cluster 2  "
      ]
     },
     "execution_count": 31,
     "metadata": {},
     "output_type": "execute_result"
    }
   ],
   "source": [
    "df.head()"
   ]
  },
  {
   "cell_type": "code",
   "execution_count": 32,
   "id": "a8df1289",
   "metadata": {},
   "outputs": [],
   "source": [
    "df_=pd.concat([df,df_cols],axis=1)"
   ]
  },
  {
   "cell_type": "code",
   "execution_count": 33,
   "id": "75dd2f8f",
   "metadata": {},
   "outputs": [
    {
     "data": {
      "text/html": [
       "<div>\n",
       "<style scoped>\n",
       "    .dataframe tbody tr th:only-of-type {\n",
       "        vertical-align: middle;\n",
       "    }\n",
       "\n",
       "    .dataframe tbody tr th {\n",
       "        vertical-align: top;\n",
       "    }\n",
       "\n",
       "    .dataframe thead th {\n",
       "        text-align: right;\n",
       "    }\n",
       "</style>\n",
       "<table border=\"1\" class=\"dataframe\">\n",
       "  <thead>\n",
       "    <tr style=\"text-align: right;\">\n",
       "      <th></th>\n",
       "      <th>OutstandingLoan</th>\n",
       "      <th>terms</th>\n",
       "      <th>disbursedamount</th>\n",
       "      <th>LastInstallmentAmount</th>\n",
       "      <th>Gender</th>\n",
       "      <th>defaulter</th>\n",
       "      <th>terms_lapsed</th>\n",
       "      <th>disbursed_outstanding_ratio</th>\n",
       "      <th>clusters</th>\n",
       "      <th>cluster_category</th>\n",
       "      <th>OutstandingLoan</th>\n",
       "      <th>installmentstartdate</th>\n",
       "      <th>Lastinstallmentdate</th>\n",
       "      <th>disbursementdate</th>\n",
       "    </tr>\n",
       "  </thead>\n",
       "  <tbody>\n",
       "    <tr>\n",
       "      <th>0</th>\n",
       "      <td>Above 60,000</td>\n",
       "      <td>Betwn 0 &amp; 3</td>\n",
       "      <td>Betwn 0 &amp; 9,000</td>\n",
       "      <td>Betwn 0 &amp; 2,500</td>\n",
       "      <td>Male</td>\n",
       "      <td>Yes</td>\n",
       "      <td>Betwn 0 &amp; 70</td>\n",
       "      <td>Betwn 0 &amp; 0.2</td>\n",
       "      <td>1</td>\n",
       "      <td>cluster 2</td>\n",
       "      <td>-18134.96</td>\n",
       "      <td>2022-02-18</td>\n",
       "      <td>2022-02-18</td>\n",
       "      <td>2022-01-19</td>\n",
       "    </tr>\n",
       "    <tr>\n",
       "      <th>1</th>\n",
       "      <td>Above 60,000</td>\n",
       "      <td>Betwn 0 &amp; 3</td>\n",
       "      <td>Betwn 0 &amp; 9,000</td>\n",
       "      <td>Betwn 0 &amp; 2,500</td>\n",
       "      <td>Female</td>\n",
       "      <td>Yes</td>\n",
       "      <td>Betwn 0 &amp; 70</td>\n",
       "      <td>Betwn 0 &amp; 0.2</td>\n",
       "      <td>1</td>\n",
       "      <td>cluster 2</td>\n",
       "      <td>-6769.98</td>\n",
       "      <td>2021-12-31</td>\n",
       "      <td>2021-12-31</td>\n",
       "      <td>2021-12-01</td>\n",
       "    </tr>\n",
       "    <tr>\n",
       "      <th>2</th>\n",
       "      <td>Above 60,000</td>\n",
       "      <td>Betwn 0 &amp; 3</td>\n",
       "      <td>Betwn 0 &amp; 9,000</td>\n",
       "      <td>Betwn 0 &amp; 2,500</td>\n",
       "      <td>Female</td>\n",
       "      <td>Yes</td>\n",
       "      <td>Betwn 0 &amp; 70</td>\n",
       "      <td>Betwn 0 &amp; 0.2</td>\n",
       "      <td>1</td>\n",
       "      <td>cluster 2</td>\n",
       "      <td>-10000.00</td>\n",
       "      <td>2021-12-30</td>\n",
       "      <td>2021-12-30</td>\n",
       "      <td>2021-11-30</td>\n",
       "    </tr>\n",
       "    <tr>\n",
       "      <th>3</th>\n",
       "      <td>Above 60,000</td>\n",
       "      <td>Betwn 0 &amp; 3</td>\n",
       "      <td>Betwn 0 &amp; 9,000</td>\n",
       "      <td>Betwn 0 &amp; 2,500</td>\n",
       "      <td>Female</td>\n",
       "      <td>Yes</td>\n",
       "      <td>Betwn 0 &amp; 70</td>\n",
       "      <td>Betwn 0 &amp; 0.2</td>\n",
       "      <td>1</td>\n",
       "      <td>cluster 2</td>\n",
       "      <td>-30000.00</td>\n",
       "      <td>2021-12-26</td>\n",
       "      <td>2021-12-26</td>\n",
       "      <td>2021-11-26</td>\n",
       "    </tr>\n",
       "    <tr>\n",
       "      <th>4</th>\n",
       "      <td>Above 60,000</td>\n",
       "      <td>Betwn 0 &amp; 3</td>\n",
       "      <td>Betwn 0 &amp; 9,000</td>\n",
       "      <td>Betwn 0 &amp; 2,500</td>\n",
       "      <td>Male</td>\n",
       "      <td>Yes</td>\n",
       "      <td>Betwn 0 &amp; 70</td>\n",
       "      <td>Betwn 0 &amp; 0.2</td>\n",
       "      <td>1</td>\n",
       "      <td>cluster 2</td>\n",
       "      <td>-1269.98</td>\n",
       "      <td>2021-12-26</td>\n",
       "      <td>2021-12-26</td>\n",
       "      <td>2021-11-26</td>\n",
       "    </tr>\n",
       "  </tbody>\n",
       "</table>\n",
       "</div>"
      ],
      "text/plain": [
       "   OutstandingLoan        terms  disbursedamount LastInstallmentAmount  \\\n",
       "0     Above 60,000  Betwn 0 & 3  Betwn 0 & 9,000       Betwn 0 & 2,500   \n",
       "1     Above 60,000  Betwn 0 & 3  Betwn 0 & 9,000       Betwn 0 & 2,500   \n",
       "2     Above 60,000  Betwn 0 & 3  Betwn 0 & 9,000       Betwn 0 & 2,500   \n",
       "3     Above 60,000  Betwn 0 & 3  Betwn 0 & 9,000       Betwn 0 & 2,500   \n",
       "4     Above 60,000  Betwn 0 & 3  Betwn 0 & 9,000       Betwn 0 & 2,500   \n",
       "\n",
       "   Gender defaulter  terms_lapsed disbursed_outstanding_ratio  clusters  \\\n",
       "0    Male       Yes  Betwn 0 & 70               Betwn 0 & 0.2         1   \n",
       "1  Female       Yes  Betwn 0 & 70               Betwn 0 & 0.2         1   \n",
       "2  Female       Yes  Betwn 0 & 70               Betwn 0 & 0.2         1   \n",
       "3  Female       Yes  Betwn 0 & 70               Betwn 0 & 0.2         1   \n",
       "4    Male       Yes  Betwn 0 & 70               Betwn 0 & 0.2         1   \n",
       "\n",
       "  cluster_category  OutstandingLoan installmentstartdate Lastinstallmentdate  \\\n",
       "0        cluster 2        -18134.96           2022-02-18          2022-02-18   \n",
       "1        cluster 2         -6769.98           2021-12-31          2021-12-31   \n",
       "2        cluster 2        -10000.00           2021-12-30          2021-12-30   \n",
       "3        cluster 2        -30000.00           2021-12-26          2021-12-26   \n",
       "4        cluster 2         -1269.98           2021-12-26          2021-12-26   \n",
       "\n",
       "  disbursementdate  \n",
       "0       2022-01-19  \n",
       "1       2021-12-01  \n",
       "2       2021-11-30  \n",
       "3       2021-11-26  \n",
       "4       2021-11-26  "
      ]
     },
     "execution_count": 33,
     "metadata": {},
     "output_type": "execute_result"
    }
   ],
   "source": [
    "df_.head()"
   ]
  },
  {
   "cell_type": "code",
   "execution_count": 34,
   "id": "8c38c580",
   "metadata": {},
   "outputs": [],
   "source": [
    "df_.to_csv(\"cleaned_data.csv\")"
   ]
  },
  {
   "cell_type": "code",
   "execution_count": null,
   "id": "378ca659",
   "metadata": {},
   "outputs": [],
   "source": []
  }
 ],
 "metadata": {
  "kernelspec": {
   "display_name": "Python 3 (ipykernel)",
   "language": "python",
   "name": "python3"
  },
  "language_info": {
   "codemirror_mode": {
    "name": "ipython",
    "version": 3
   },
   "file_extension": ".py",
   "mimetype": "text/x-python",
   "name": "python",
   "nbconvert_exporter": "python",
   "pygments_lexer": "ipython3",
   "version": "3.9.7"
  }
 },
 "nbformat": 4,
 "nbformat_minor": 5
}
